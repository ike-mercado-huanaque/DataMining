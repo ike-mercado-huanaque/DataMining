{
 "cells": [
  {
   "cell_type": "markdown",
   "metadata": {},
   "source": [
    "# Hands On #1 \n",
    "## Proceso ETL y Exploración Simple\n",
    "## TEL-354: Minería de Datos 2020-1 (20200420)\n",
    "### Prof. Mauricio Araya"
   ]
  },
  {
   "cell_type": "markdown",
   "metadata": {},
   "source": [
    "### 1.- Extract, Transfer and Load"
   ]
  },
  {
   "cell_type": "markdown",
   "metadata": {},
   "source": [
    "**1.1**- Busque el ``Toy Dataset`` por Carlo Lepelaars del sitio web **Kaggle**. Kaggle es un portal donde uno puede bajar datasets asdociados a un desafío. Este desafío puede traducirse en premios en dinero, prestigio, regalos o (como ahora en la contingencia COVID-19) el premio puede ser solo aportar para solucionar un problema. \n",
    "\n",
    "En la celda siguiente, escriba en Markdown la información de **contexto** del dataset y el link a donde lo encontró. Agregue además una tabla con la descripción de cada columna."
   ]
  },
  {
   "cell_type": "markdown",
   "metadata": {},
   "source": [
    "Se trata sobre los datos generales de un grupo de personas, su ciudad su ingreso y ver si están enfermas o no."
   ]
  },
  {
   "cell_type": "markdown",
   "metadata": {},
   "source": [
    "**PREGUNTA**: ¿A qué tipo de datos corresponde cada columna? (texto, categórico, natural, real, etc.). Agregué esta información a su tabla de deescripción\n",
    "\n",
    "**RESPUESTA:**: \n",
    "Number: Natural\n",
    "City: Texto\n",
    "Gender: Categórico\n",
    "Age: Natural\n",
    "Income: Flotante\n",
    "Illness: Categórico"
   ]
  },
  {
   "cell_type": "markdown",
   "metadata": {},
   "source": [
    "**1.2**- Descargue el dataset y guardelo en el mismo directorio de trabajo en el que está este notebook. \n",
    "\n",
    "**PREGUNTA**: En la siguiente celda (en Markdown), explique cuál es el tipo de archivo del dataset copiando alguna breve explicación que encuentre en google, y referenciando la fuente con un link clickeable. Responda además, ¿Qué otros formatos de archivos podrían contener la misma información para este ``Toy Dataset``? Agregue un link además con una explicación de como convertir el ``.csv`` a otro formato."
   ]
  },
  {
   "cell_type": "markdown",
   "metadata": {},
   "source": [
    "Un archivo CSV (valores separados por comas) es un tipo especial de archivo que puede crear o editar en Excel. En lugar de almacenar la información en columnas, los archivos CSV almacenan datos separados por comas.\n",
    "\n",
    "Fuente: https://support.microsoft.com/es-es/office/crear-o-editar-archivos-csv-para-importarlos-a-outlook-4518d70d-8fe9-46ad-94fa-1494247193c7#:~:text=Un%20archivo%20CSV%20\n",
    "\n",
    "Transformar CSV a Excel: https://www.geeknetic.es/Guia/1829/Como-convertir-archivos-CSV-a-Excel.html\n"
   ]
  },
  {
   "cell_type": "markdown",
   "metadata": {},
   "source": [
    "**1.3**- Revise los notebooks en el aula para poder cargar el dataset en memoria. Para esto ocupe la biblioteca ``pandas``, que es un gestor de tablas con compatibilidad en iPython notebooks. Verifique que el objeto DataFrame generado \"sabe\" como desplegarse en un notebook. Busque además en la documentación de ``pandas`` como conocer el tipo de datos de cada columna e imprima esto en una nueva celda."
   ]
  },
  {
   "cell_type": "code",
   "execution_count": 1,
   "metadata": {},
   "outputs": [
    {
     "data": {
      "text/html": [
       "<div>\n",
       "<style scoped>\n",
       "    .dataframe tbody tr th:only-of-type {\n",
       "        vertical-align: middle;\n",
       "    }\n",
       "\n",
       "    .dataframe tbody tr th {\n",
       "        vertical-align: top;\n",
       "    }\n",
       "\n",
       "    .dataframe thead th {\n",
       "        text-align: right;\n",
       "    }\n",
       "</style>\n",
       "<table border=\"1\" class=\"dataframe\">\n",
       "  <thead>\n",
       "    <tr style=\"text-align: right;\">\n",
       "      <th></th>\n",
       "      <th>Number</th>\n",
       "      <th>City</th>\n",
       "      <th>Gender</th>\n",
       "      <th>Age</th>\n",
       "      <th>Income</th>\n",
       "      <th>Illness</th>\n",
       "    </tr>\n",
       "  </thead>\n",
       "  <tbody>\n",
       "    <tr>\n",
       "      <th>0</th>\n",
       "      <td>1</td>\n",
       "      <td>Dallas</td>\n",
       "      <td>Male</td>\n",
       "      <td>41</td>\n",
       "      <td>40367.0</td>\n",
       "      <td>No</td>\n",
       "    </tr>\n",
       "    <tr>\n",
       "      <th>1</th>\n",
       "      <td>2</td>\n",
       "      <td>Dallas</td>\n",
       "      <td>Male</td>\n",
       "      <td>54</td>\n",
       "      <td>45084.0</td>\n",
       "      <td>No</td>\n",
       "    </tr>\n",
       "    <tr>\n",
       "      <th>2</th>\n",
       "      <td>3</td>\n",
       "      <td>Dallas</td>\n",
       "      <td>Male</td>\n",
       "      <td>42</td>\n",
       "      <td>52483.0</td>\n",
       "      <td>No</td>\n",
       "    </tr>\n",
       "    <tr>\n",
       "      <th>3</th>\n",
       "      <td>4</td>\n",
       "      <td>Dallas</td>\n",
       "      <td>Male</td>\n",
       "      <td>40</td>\n",
       "      <td>40941.0</td>\n",
       "      <td>No</td>\n",
       "    </tr>\n",
       "    <tr>\n",
       "      <th>4</th>\n",
       "      <td>5</td>\n",
       "      <td>Dallas</td>\n",
       "      <td>Male</td>\n",
       "      <td>46</td>\n",
       "      <td>50289.0</td>\n",
       "      <td>No</td>\n",
       "    </tr>\n",
       "  </tbody>\n",
       "</table>\n",
       "</div>"
      ],
      "text/plain": [
       "   Number    City Gender  Age   Income Illness\n",
       "0       1  Dallas   Male   41  40367.0      No\n",
       "1       2  Dallas   Male   54  45084.0      No\n",
       "2       3  Dallas   Male   42  52483.0      No\n",
       "3       4  Dallas   Male   40  40941.0      No\n",
       "4       5  Dallas   Male   46  50289.0      No"
      ]
     },
     "execution_count": 1,
     "metadata": {},
     "output_type": "execute_result"
    }
   ],
   "source": [
    "import pandas as pd\n",
    "data_read = pd.read_csv(\"toy_dataset.csv\")\n",
    "peopledf = pd.DataFrame(data_read)\n",
    "peopledf.head()\n"
   ]
  },
  {
   "cell_type": "code",
   "execution_count": 2,
   "metadata": {},
   "outputs": [
    {
     "data": {
      "text/plain": [
       "Number       int64\n",
       "City        object\n",
       "Gender      object\n",
       "Age          int64\n",
       "Income     float64\n",
       "Illness     object\n",
       "dtype: object"
      ]
     },
     "execution_count": 2,
     "metadata": {},
     "output_type": "execute_result"
    }
   ],
   "source": [
    "peopledf.dtypes"
   ]
  },
  {
   "cell_type": "markdown",
   "metadata": {},
   "source": [
    "**PREGUNTA**: ¿La información de tipos que usted escribió en el punto 1.1 está completamente contenida en lo que ``pandas`` reporta? Explique en no más de 3 frases.\n",
    "\n",
    "Si lo está, excepto en el caso de las variables que no son números sino que son strings. "
   ]
  },
  {
   "cell_type": "markdown",
   "metadata": {},
   "source": [
    "### 2- Exploración Simple de Datos"
   ]
  },
  {
   "cell_type": "markdown",
   "metadata": {},
   "source": [
    "**2.1**- El objeto básico de ``pandas`` se llama ``DataFrame``. Busque como imprimir una *estadística descriptiva* de los datos (media, desviación estándar, percentiles, etc.)."
   ]
  },
  {
   "cell_type": "code",
   "execution_count": 3,
   "metadata": {},
   "outputs": [
    {
     "data": {
      "text/html": [
       "<div>\n",
       "<style scoped>\n",
       "    .dataframe tbody tr th:only-of-type {\n",
       "        vertical-align: middle;\n",
       "    }\n",
       "\n",
       "    .dataframe tbody tr th {\n",
       "        vertical-align: top;\n",
       "    }\n",
       "\n",
       "    .dataframe thead th {\n",
       "        text-align: right;\n",
       "    }\n",
       "</style>\n",
       "<table border=\"1\" class=\"dataframe\">\n",
       "  <thead>\n",
       "    <tr style=\"text-align: right;\">\n",
       "      <th></th>\n",
       "      <th>Number</th>\n",
       "      <th>City</th>\n",
       "      <th>Gender</th>\n",
       "      <th>Age</th>\n",
       "      <th>Income</th>\n",
       "      <th>Illness</th>\n",
       "    </tr>\n",
       "  </thead>\n",
       "  <tbody>\n",
       "    <tr>\n",
       "      <th>count</th>\n",
       "      <td>150000.000000</td>\n",
       "      <td>150000</td>\n",
       "      <td>150000</td>\n",
       "      <td>150000.000000</td>\n",
       "      <td>150000.000000</td>\n",
       "      <td>150000</td>\n",
       "    </tr>\n",
       "    <tr>\n",
       "      <th>unique</th>\n",
       "      <td>NaN</td>\n",
       "      <td>8</td>\n",
       "      <td>2</td>\n",
       "      <td>NaN</td>\n",
       "      <td>NaN</td>\n",
       "      <td>2</td>\n",
       "    </tr>\n",
       "    <tr>\n",
       "      <th>top</th>\n",
       "      <td>NaN</td>\n",
       "      <td>New York City</td>\n",
       "      <td>Male</td>\n",
       "      <td>NaN</td>\n",
       "      <td>NaN</td>\n",
       "      <td>No</td>\n",
       "    </tr>\n",
       "    <tr>\n",
       "      <th>freq</th>\n",
       "      <td>NaN</td>\n",
       "      <td>50307</td>\n",
       "      <td>83800</td>\n",
       "      <td>NaN</td>\n",
       "      <td>NaN</td>\n",
       "      <td>137861</td>\n",
       "    </tr>\n",
       "    <tr>\n",
       "      <th>mean</th>\n",
       "      <td>75000.500000</td>\n",
       "      <td>NaN</td>\n",
       "      <td>NaN</td>\n",
       "      <td>44.950200</td>\n",
       "      <td>91252.798273</td>\n",
       "      <td>NaN</td>\n",
       "    </tr>\n",
       "    <tr>\n",
       "      <th>std</th>\n",
       "      <td>43301.414527</td>\n",
       "      <td>NaN</td>\n",
       "      <td>NaN</td>\n",
       "      <td>11.572486</td>\n",
       "      <td>24989.500948</td>\n",
       "      <td>NaN</td>\n",
       "    </tr>\n",
       "    <tr>\n",
       "      <th>min</th>\n",
       "      <td>1.000000</td>\n",
       "      <td>NaN</td>\n",
       "      <td>NaN</td>\n",
       "      <td>25.000000</td>\n",
       "      <td>-654.000000</td>\n",
       "      <td>NaN</td>\n",
       "    </tr>\n",
       "    <tr>\n",
       "      <th>25%</th>\n",
       "      <td>37500.750000</td>\n",
       "      <td>NaN</td>\n",
       "      <td>NaN</td>\n",
       "      <td>35.000000</td>\n",
       "      <td>80867.750000</td>\n",
       "      <td>NaN</td>\n",
       "    </tr>\n",
       "    <tr>\n",
       "      <th>50%</th>\n",
       "      <td>75000.500000</td>\n",
       "      <td>NaN</td>\n",
       "      <td>NaN</td>\n",
       "      <td>45.000000</td>\n",
       "      <td>93655.000000</td>\n",
       "      <td>NaN</td>\n",
       "    </tr>\n",
       "    <tr>\n",
       "      <th>75%</th>\n",
       "      <td>112500.250000</td>\n",
       "      <td>NaN</td>\n",
       "      <td>NaN</td>\n",
       "      <td>55.000000</td>\n",
       "      <td>104519.000000</td>\n",
       "      <td>NaN</td>\n",
       "    </tr>\n",
       "    <tr>\n",
       "      <th>max</th>\n",
       "      <td>150000.000000</td>\n",
       "      <td>NaN</td>\n",
       "      <td>NaN</td>\n",
       "      <td>65.000000</td>\n",
       "      <td>177157.000000</td>\n",
       "      <td>NaN</td>\n",
       "    </tr>\n",
       "  </tbody>\n",
       "</table>\n",
       "</div>"
      ],
      "text/plain": [
       "               Number           City  Gender            Age         Income  \\\n",
       "count   150000.000000         150000  150000  150000.000000  150000.000000   \n",
       "unique            NaN              8       2            NaN            NaN   \n",
       "top               NaN  New York City    Male            NaN            NaN   \n",
       "freq              NaN          50307   83800            NaN            NaN   \n",
       "mean     75000.500000            NaN     NaN      44.950200   91252.798273   \n",
       "std      43301.414527            NaN     NaN      11.572486   24989.500948   \n",
       "min          1.000000            NaN     NaN      25.000000    -654.000000   \n",
       "25%      37500.750000            NaN     NaN      35.000000   80867.750000   \n",
       "50%      75000.500000            NaN     NaN      45.000000   93655.000000   \n",
       "75%     112500.250000            NaN     NaN      55.000000  104519.000000   \n",
       "max     150000.000000            NaN     NaN      65.000000  177157.000000   \n",
       "\n",
       "       Illness  \n",
       "count   150000  \n",
       "unique       2  \n",
       "top         No  \n",
       "freq    137861  \n",
       "mean       NaN  \n",
       "std        NaN  \n",
       "min        NaN  \n",
       "25%        NaN  \n",
       "50%        NaN  \n",
       "75%        NaN  \n",
       "max        NaN  "
      ]
     },
     "execution_count": 3,
     "metadata": {},
     "output_type": "execute_result"
    }
   ],
   "source": [
    "peopledf.describe(include=\"all\")"
   ]
  },
  {
   "cell_type": "markdown",
   "metadata": {},
   "source": [
    "**PREGUNTA**: Solo para algunas columnas hace sentido hacer una descripción estadística. ¿Cuáles son y por qué? \n",
    "\n",
    "**R**/: Porque algunas variables son categóricas lo cual no tiene sentido calcular sus valores estadisticos, y hay variables numéricas, que mo se pueden obtener su clasificación ni su frecuencia."
   ]
  },
  {
   "cell_type": "markdown",
   "metadata": {},
   "source": [
    "**2.2**- Utilice la biblioteca de visualización llamada ``matplotlib`` para hacer un gráfico de dispersión de la edad y el ingreso (no tenga miedo a hacer copy/paste). Modifique su gráfico para imprimir de distinto color los individuos enfermos. Puede modificar con el parámetro alpha para obtener una mejor visualización."
   ]
  },
  {
   "cell_type": "code",
   "execution_count": null,
   "metadata": {},
   "outputs": [],
   "source": []
  },
  {
   "cell_type": "code",
   "execution_count": 4,
   "metadata": {},
   "outputs": [
    {
     "data": {
      "image/png": "[encoded data removed]",
      "text/plain": [
       "<Figure size 432x288 with 1 Axes>"
      ]
     },
     "metadata": {
      "needs_background": "light"
     },
     "output_type": "display_data"
    },
    {
     "data": {
      "image/png": "[encoded data removed]",
      "text/plain": [
       "<Figure size 432x288 with 1 Axes>"
      ]
     },
     "metadata": {
      "needs_background": "light"
     },
     "output_type": "display_data"
    }
   ],
   "source": [
    "import matplotlib.pyplot as plt \n",
    "enfermos = peopledf.loc[lambda x: x[\"Illness\"]== \"Yes\"]\n",
    "sanos = peopledf.loc[lambda x: x[\"Illness\"]== \"No\"]\n",
    "\n",
    "plt.subplot(2,1,1)\n",
    "\n",
    "plt.scatter(enfermos[\"Age\"],enfermos[\"Income\"] ,marker=\".\",color=\"Tab:Blue\")\n",
    "plt.xlabel(\"Edad\")\n",
    "plt.ylabel(\"Ingreso\")\n",
    "plt.title(\"Ingresos vs Edad: Enfermos\")\n",
    "plt.show()\n",
    "plt.scatter(sanos[\"Age\"],sanos[\"Income\"] ,marker=\".\",color = \"Tab:Red\")\n",
    "plt.xlabel(\"Edad\")\n",
    "plt.ylabel(\"Ingreso\")\n",
    "plt.title(\"Ingresos vs Edad: Sanos\")\n",
    "plt.show()"
   ]
  },
  {
   "cell_type": "markdown",
   "metadata": {},
   "source": [
    "**PREGUNTA**: ¿Puede sacar alguna conclusión ya de los datos seleccionados? (máximo 3)"
   ]
  },
  {
   "cell_type": "markdown",
   "metadata": {},
   "source": [
    "**2.3**- Utilice ahora la biblioteca ``seaborn`` y su función ``pairplot`` sobre el DataFrame para hacer visualizaciones avanzadas de forma automática. Puede por ejemplo establecer el color de distintas variables categóricas utilizando ``hue``. "
   ]
  },
  {
   "cell_type": "code",
   "execution_count": 5,
   "metadata": {
    "tags": []
   },
   "outputs": [],
   "source": [
    "import seaborn as sns\n",
    "#sns.pairplot(peopledf,hue=\"Illness\")\n",
    "#sns.pairplot(peopledf,hue=\"Gender\")\n"
   ]
  },
  {
   "cell_type": "code",
   "execution_count": 6,
   "metadata": {},
   "outputs": [],
   "source": [
    "#sns.pairplot(peopledf,hue=\"City\")"
   ]
  },
  {
   "cell_type": "markdown",
   "metadata": {},
   "source": [
    "**PREGUNTA**: ¿Qué conclusiones puede usted sacar sobre la distribución de la enfermedad, el género y la ciudad?"
   ]
  },
  {
   "cell_type": "markdown",
   "metadata": {},
   "source": [
    "### 3- Subgrupos\n",
    "**3.1** Una herramienta importante en el análisis de variables categóricas es el agrupar por sus valores. La función ``groupby`` de ``pandas`` permite realizar una vista de esta forma. Agrupe los datos por ciudad e imprima la cantidad de individuos que hay en cada ciudad. Además describa las variables agrupadas de enfermedad e ingreso. "
   ]
  },
  {
   "cell_type": "code",
   "execution_count": 7,
   "metadata": {},
   "outputs": [
    {
     "name": "stdout",
     "output_type": "stream",
     "text": [
      "Austin 12292\n",
      "Boston 8301\n",
      "Dallas 19707\n",
      "Los Angeles 32173\n",
      "Mountain View 14219\n",
      "New York City 50307\n",
      "San Diego 4881\n",
      "Washington D.C. 8120\n"
     ]
    }
   ],
   "source": [
    "citygroup = peopledf.groupby(\"City\")\n",
    "for ciudad in citygroup.groups.keys():\n",
    "    print(ciudad,citygroup.size()[ciudad])\n",
    "    \n"
   ]
  },
  {
   "cell_type": "code",
   "execution_count": 14,
   "metadata": {},
   "outputs": [
    {
     "data": {
      "text/html": [
       "<div>\n",
       "<style scoped>\n",
       "    .dataframe tbody tr th:only-of-type {\n",
       "        vertical-align: middle;\n",
       "    }\n",
       "\n",
       "    .dataframe tbody tr th {\n",
       "        vertical-align: top;\n",
       "    }\n",
       "\n",
       "    .dataframe thead th {\n",
       "        text-align: right;\n",
       "    }\n",
       "</style>\n",
       "<table border=\"1\" class=\"dataframe\">\n",
       "  <thead>\n",
       "    <tr style=\"text-align: right;\">\n",
       "      <th></th>\n",
       "      <th>count</th>\n",
       "      <th>mean</th>\n",
       "      <th>std</th>\n",
       "      <th>min</th>\n",
       "      <th>25%</th>\n",
       "      <th>50%</th>\n",
       "      <th>75%</th>\n",
       "      <th>max</th>\n",
       "    </tr>\n",
       "    <tr>\n",
       "      <th>City</th>\n",
       "      <th></th>\n",
       "      <th></th>\n",
       "      <th></th>\n",
       "      <th></th>\n",
       "      <th></th>\n",
       "      <th></th>\n",
       "      <th></th>\n",
       "      <th></th>\n",
       "    </tr>\n",
       "  </thead>\n",
       "  <tbody>\n",
       "    <tr>\n",
       "      <th>Austin</th>\n",
       "      <td>12292.0</td>\n",
       "      <td>90277.513423</td>\n",
       "      <td>10996.636090</td>\n",
       "      <td>50602.0</td>\n",
       "      <td>82891.75</td>\n",
       "      <td>90278.5</td>\n",
       "      <td>97755.5</td>\n",
       "      <td>132302.0</td>\n",
       "    </tr>\n",
       "    <tr>\n",
       "      <th>Boston</th>\n",
       "      <td>8301.0</td>\n",
       "      <td>91554.571497</td>\n",
       "      <td>11216.142107</td>\n",
       "      <td>48425.0</td>\n",
       "      <td>83892.00</td>\n",
       "      <td>91607.0</td>\n",
       "      <td>99110.0</td>\n",
       "      <td>132348.0</td>\n",
       "    </tr>\n",
       "    <tr>\n",
       "      <th>Dallas</th>\n",
       "      <td>19707.0</td>\n",
       "      <td>45252.231187</td>\n",
       "      <td>11263.867909</td>\n",
       "      <td>-654.0</td>\n",
       "      <td>37720.50</td>\n",
       "      <td>45268.0</td>\n",
       "      <td>53021.5</td>\n",
       "      <td>91479.0</td>\n",
       "    </tr>\n",
       "    <tr>\n",
       "      <th>Los Angeles</th>\n",
       "      <td>32173.0</td>\n",
       "      <td>95264.155410</td>\n",
       "      <td>11187.234580</td>\n",
       "      <td>51131.0</td>\n",
       "      <td>87589.00</td>\n",
       "      <td>95291.0</td>\n",
       "      <td>102935.0</td>\n",
       "      <td>141249.0</td>\n",
       "    </tr>\n",
       "    <tr>\n",
       "      <th>Mountain View</th>\n",
       "      <td>14219.0</td>\n",
       "      <td>135078.415782</td>\n",
       "      <td>11227.302304</td>\n",
       "      <td>95202.0</td>\n",
       "      <td>127482.00</td>\n",
       "      <td>135220.0</td>\n",
       "      <td>142738.5</td>\n",
       "      <td>177157.0</td>\n",
       "    </tr>\n",
       "    <tr>\n",
       "      <th>New York City</th>\n",
       "      <td>50307.0</td>\n",
       "      <td>96857.131393</td>\n",
       "      <td>11210.580111</td>\n",
       "      <td>55538.0</td>\n",
       "      <td>89184.00</td>\n",
       "      <td>96920.0</td>\n",
       "      <td>104516.5</td>\n",
       "      <td>147170.0</td>\n",
       "    </tr>\n",
       "    <tr>\n",
       "      <th>San Diego</th>\n",
       "      <td>4881.0</td>\n",
       "      <td>100756.209178</td>\n",
       "      <td>11149.283188</td>\n",
       "      <td>64941.0</td>\n",
       "      <td>93193.00</td>\n",
       "      <td>100859.0</td>\n",
       "      <td>108394.0</td>\n",
       "      <td>140190.0</td>\n",
       "    </tr>\n",
       "    <tr>\n",
       "      <th>Washington D.C.</th>\n",
       "      <td>8120.0</td>\n",
       "      <td>70991.612808</td>\n",
       "      <td>11079.854228</td>\n",
       "      <td>33335.0</td>\n",
       "      <td>63571.75</td>\n",
       "      <td>71230.0</td>\n",
       "      <td>78563.5</td>\n",
       "      <td>107704.0</td>\n",
       "    </tr>\n",
       "  </tbody>\n",
       "</table>\n",
       "</div>"
      ],
      "text/plain": [
       "                   count           mean           std      min        25%  \\\n",
       "City                                                                        \n",
       "Austin           12292.0   90277.513423  10996.636090  50602.0   82891.75   \n",
       "Boston            8301.0   91554.571497  11216.142107  48425.0   83892.00   \n",
       "Dallas           19707.0   45252.231187  11263.867909   -654.0   37720.50   \n",
       "Los Angeles      32173.0   95264.155410  11187.234580  51131.0   87589.00   \n",
       "Mountain View    14219.0  135078.415782  11227.302304  95202.0  127482.00   \n",
       "New York City    50307.0   96857.131393  11210.580111  55538.0   89184.00   \n",
       "San Diego         4881.0  100756.209178  11149.283188  64941.0   93193.00   \n",
       "Washington D.C.   8120.0   70991.612808  11079.854228  33335.0   63571.75   \n",
       "\n",
       "                      50%       75%       max  \n",
       "City                                           \n",
       "Austin            90278.5   97755.5  132302.0  \n",
       "Boston            91607.0   99110.0  132348.0  \n",
       "Dallas            45268.0   53021.5   91479.0  \n",
       "Los Angeles       95291.0  102935.0  141249.0  \n",
       "Mountain View    135220.0  142738.5  177157.0  \n",
       "New York City     96920.0  104516.5  147170.0  \n",
       "San Diego        100859.0  108394.0  140190.0  \n",
       "Washington D.C.   71230.0   78563.5  107704.0  "
      ]
     },
     "execution_count": 14,
     "metadata": {},
     "output_type": "execute_result"
    }
   ],
   "source": [
    "citygroup[\"Income\"].describe()"
   ]
  },
  {
   "cell_type": "code",
   "execution_count": 13,
   "metadata": {},
   "outputs": [
    {
     "data": {
      "text/html": [
       "<div>\n",
       "<style scoped>\n",
       "    .dataframe tbody tr th:only-of-type {\n",
       "        vertical-align: middle;\n",
       "    }\n",
       "\n",
       "    .dataframe tbody tr th {\n",
       "        vertical-align: top;\n",
       "    }\n",
       "\n",
       "    .dataframe thead th {\n",
       "        text-align: right;\n",
       "    }\n",
       "</style>\n",
       "<table border=\"1\" class=\"dataframe\">\n",
       "  <thead>\n",
       "    <tr style=\"text-align: right;\">\n",
       "      <th></th>\n",
       "      <th>count</th>\n",
       "      <th>unique</th>\n",
       "      <th>top</th>\n",
       "      <th>freq</th>\n",
       "    </tr>\n",
       "    <tr>\n",
       "      <th>City</th>\n",
       "      <th></th>\n",
       "      <th></th>\n",
       "      <th></th>\n",
       "      <th></th>\n",
       "    </tr>\n",
       "  </thead>\n",
       "  <tbody>\n",
       "    <tr>\n",
       "      <th>Austin</th>\n",
       "      <td>12292</td>\n",
       "      <td>2</td>\n",
       "      <td>No</td>\n",
       "      <td>11281</td>\n",
       "    </tr>\n",
       "    <tr>\n",
       "      <th>Boston</th>\n",
       "      <td>8301</td>\n",
       "      <td>2</td>\n",
       "      <td>No</td>\n",
       "      <td>7615</td>\n",
       "    </tr>\n",
       "    <tr>\n",
       "      <th>Dallas</th>\n",
       "      <td>19707</td>\n",
       "      <td>2</td>\n",
       "      <td>No</td>\n",
       "      <td>18094</td>\n",
       "    </tr>\n",
       "    <tr>\n",
       "      <th>Los Angeles</th>\n",
       "      <td>32173</td>\n",
       "      <td>2</td>\n",
       "      <td>No</td>\n",
       "      <td>29605</td>\n",
       "    </tr>\n",
       "    <tr>\n",
       "      <th>Mountain View</th>\n",
       "      <td>14219</td>\n",
       "      <td>2</td>\n",
       "      <td>No</td>\n",
       "      <td>13041</td>\n",
       "    </tr>\n",
       "    <tr>\n",
       "      <th>New York City</th>\n",
       "      <td>50307</td>\n",
       "      <td>2</td>\n",
       "      <td>No</td>\n",
       "      <td>46286</td>\n",
       "    </tr>\n",
       "    <tr>\n",
       "      <th>San Diego</th>\n",
       "      <td>4881</td>\n",
       "      <td>2</td>\n",
       "      <td>No</td>\n",
       "      <td>4487</td>\n",
       "    </tr>\n",
       "    <tr>\n",
       "      <th>Washington D.C.</th>\n",
       "      <td>8120</td>\n",
       "      <td>2</td>\n",
       "      <td>No</td>\n",
       "      <td>7452</td>\n",
       "    </tr>\n",
       "  </tbody>\n",
       "</table>\n",
       "</div>"
      ],
      "text/plain": [
       "                 count unique top   freq\n",
       "City                                    \n",
       "Austin           12292      2  No  11281\n",
       "Boston            8301      2  No   7615\n",
       "Dallas           19707      2  No  18094\n",
       "Los Angeles      32173      2  No  29605\n",
       "Mountain View    14219      2  No  13041\n",
       "New York City    50307      2  No  46286\n",
       "San Diego         4881      2  No   4487\n",
       "Washington D.C.   8120      2  No   7452"
      ]
     },
     "execution_count": 13,
     "metadata": {},
     "output_type": "execute_result"
    }
   ],
   "source": [
    "citygroup[\"Illness\"].describe()"
   ]
  },
  {
   "cell_type": "code",
   "execution_count": 15,
   "metadata": {},
   "outputs": [],
   "source": [
    "#No era necesario\n",
    "#for city in citygroup.groups.keys():\n",
    "#    df = citygroup.get_group(city)\n",
    "#    enfermos = df.loc[lambda x: x[\"Illness\"]== \"Yes\"]\n",
    "#    sanos = df.loc[lambda x: x[\"Illness\"]== \"No\"]\n",
    "    \n",
    "#    print(\"Enfermos:\",enfermos[\"Illness\"].count(),\"Sanos\",sanos[\"Illness\"].count())\n",
    "    \n",
    "#    plt.subplot(2,1,1)\n",
    "    \n",
    "#    titulo = city + \" Ingresos vs Edad: Enfermos\"\n",
    "#    plt.scatter(enfermos[\"Age\"],enfermos[\"Income\"] ,marker=\".\",color=\"Tab:Blue\")\n",
    "#    plt.xlabel(\"Edad\")\n",
    "#    plt.ylabel(\"Ingreso\")\n",
    "#    plt.title(titulo)\n",
    "#    plt.show()\n",
    "#    titulo = city + \" Ingresos vs Edad: Sanos\"\n",
    "#    plt.scatter(sanos[\"Age\"],sanos[\"Income\"] ,marker=\".\",color = \"Tab:Red\")\n",
    "#    plt.xlabel(\"Edad\")\n",
    "#    plt.ylabel(\"Ingreso\")\n",
    "#    plt.title(titulo)\n",
    "#    plt.show()\n",
    "\n"
   ]
  },
  {
   "cell_type": "markdown",
   "metadata": {},
   "source": [
    "**PREGUNTA**: ¿Qué conclusiones simples puede usted sacar de estas descripciones? (solo 2)"
   ]
  },
  {
   "cell_type": "markdown",
   "metadata": {},
   "source": [
    "**3.2** Calcule el ratio de personas enfermas por ciudad y comparela con el ingreso medio en cada ciudad."
   ]
  },
  {
   "cell_type": "code",
   "execution_count": 18,
   "metadata": {},
   "outputs": [
    {
     "data": {
      "text/html": [
       "<div>\n",
       "<style scoped>\n",
       "    .dataframe tbody tr th:only-of-type {\n",
       "        vertical-align: middle;\n",
       "    }\n",
       "\n",
       "    .dataframe tbody tr th {\n",
       "        vertical-align: top;\n",
       "    }\n",
       "\n",
       "    .dataframe thead th {\n",
       "        text-align: right;\n",
       "    }\n",
       "</style>\n",
       "<table border=\"1\" class=\"dataframe\">\n",
       "  <thead>\n",
       "    <tr style=\"text-align: right;\">\n",
       "      <th></th>\n",
       "      <th>Ratio</th>\n",
       "      <th>IncomeMean</th>\n",
       "    </tr>\n",
       "  </thead>\n",
       "  <tbody>\n",
       "    <tr>\n",
       "      <th>Austin</th>\n",
       "      <td>0.082249</td>\n",
       "      <td>90277.513423</td>\n",
       "    </tr>\n",
       "    <tr>\n",
       "      <th>Boston</th>\n",
       "      <td>0.082641</td>\n",
       "      <td>91554.571497</td>\n",
       "    </tr>\n",
       "    <tr>\n",
       "      <th>Dallas</th>\n",
       "      <td>0.081849</td>\n",
       "      <td>45252.231187</td>\n",
       "    </tr>\n",
       "    <tr>\n",
       "      <th>Los Angeles</th>\n",
       "      <td>0.079818</td>\n",
       "      <td>95264.155410</td>\n",
       "    </tr>\n",
       "    <tr>\n",
       "      <th>Mountain View</th>\n",
       "      <td>0.082847</td>\n",
       "      <td>135078.415782</td>\n",
       "    </tr>\n",
       "    <tr>\n",
       "      <th>New York City</th>\n",
       "      <td>0.079929</td>\n",
       "      <td>96857.131393</td>\n",
       "    </tr>\n",
       "    <tr>\n",
       "      <th>San Diego</th>\n",
       "      <td>0.080721</td>\n",
       "      <td>100756.209178</td>\n",
       "    </tr>\n",
       "    <tr>\n",
       "      <th>Washington D.C.</th>\n",
       "      <td>0.082266</td>\n",
       "      <td>70991.612808</td>\n",
       "    </tr>\n",
       "  </tbody>\n",
       "</table>\n",
       "</div>"
      ],
      "text/plain": [
       "                    Ratio     IncomeMean\n",
       "Austin           0.082249   90277.513423\n",
       "Boston           0.082641   91554.571497\n",
       "Dallas           0.081849   45252.231187\n",
       "Los Angeles      0.079818   95264.155410\n",
       "Mountain View    0.082847  135078.415782\n",
       "New York City    0.079929   96857.131393\n",
       "San Diego        0.080721  100756.209178\n",
       "Washington D.C.  0.082266   70991.612808"
      ]
     },
     "execution_count": 18,
     "metadata": {},
     "output_type": "execute_result"
    }
   ],
   "source": [
    "ratioincomedf = dict()\n",
    "for city in citygroup.groups.keys():\n",
    "    df = citygroup.get_group(city)\n",
    "    enfermos = df.loc[lambda x: x[\"Illness\"]== \"Yes\"]\n",
    "    ratio = enfermos[\"Illness\"].count()/citygroup.size()[city]\n",
    "    meanincome = citygroup.mean()[\"Income\"][city]\n",
    "    ratioincomedf[city] = (ratio,meanincome)\n",
    "dfplot = pd.DataFrame(ratioincomedf,index=[\"Ratio\",\"IncomeMean\"]).transpose()\n"
   ]
  },
  {
   "cell_type": "code",
   "execution_count": null,
   "metadata": {},
   "outputs": [],
   "source": []
  },
  {
   "cell_type": "markdown",
   "metadata": {},
   "source": [
    "**PREGUNTA FINAL**: ¿Existe una relación entre el ratio de personas enfermas y el ingreso medio? Soporte su respuesta en los gráficos y/o tablas generadas hasta este punto. "
   ]
  },
  {
   "cell_type": "code",
   "execution_count": null,
   "metadata": {},
   "outputs": [],
   "source": []
  }
 ],
 "metadata": {
  "kernelspec": {
   "display_name": "Python 3",
   "language": "python",
   "name": "python3"
  },
  "language_info": {
   "codemirror_mode": {
    "name": "ipython",
    "version": 3
   },
   "file_extension": ".py",
   "mimetype": "text/x-python",
   "name": "python",
   "nbconvert_exporter": "python",
   "pygments_lexer": "ipython3",
   "version": "3.9.2"
  }
 },
 "nbformat": 4,
 "nbformat_minor": 4
}
