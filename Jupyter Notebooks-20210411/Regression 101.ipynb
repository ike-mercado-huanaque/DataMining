{
 "cells": [
  {
   "cell_type": "markdown",
   "metadata": {},
   "source": [
    "# Regression 101: \n",
    "## Data Mining 2021 \n",
    "\n",
    "Mauricio Araya\n",
    "\n",
    "Acknowledgments to Francisco Förster Burón (CMM-U.Chile / MAS) \n",
    "\n",
    "## 1 - Back to school!\n",
    "\n",
    "Let us consider 2 data points:\n",
    "\n",
    "$(x_1,y_1) = (9,5)$\n",
    "\n",
    "$(x_2,y_2) = (4,2)$\n",
    "\n",
    "And the linear function $f(x) = ax + b = y$\n",
    "\n",
    "We know from the school that\n",
    "\n",
    "$a = \\frac{(y_1 - y_2)}{(x_1 - x_2)}$\n",
    "\n",
    "$b = y_1 - a x_1$"
   ]
  },
  {
   "cell_type": "code",
   "execution_count": 1,
   "metadata": {},
   "outputs": [
    {
     "data": {
      "text/html": [
       "<style> container { width:100% !important; }</style>"
      ],
      "text/plain": [
       "<IPython.core.display.HTML object>"
      ]
     },
     "metadata": {},
     "output_type": "display_data"
    }
   ],
   "source": [
    "import matplotlib.pyplot as plt\n",
    "import numpy as np\n",
    "from IPython.core.display import display, HTML\n",
    "display(HTML(\"<style> container { width:100% !important; }</style>\"))"
   ]
  },
  {
   "cell_type": "code",
   "execution_count": 2,
   "metadata": {},
   "outputs": [
    {
     "data": {
      "image/png": "[encoded data removed]",
      "text/plain": [
       "<Figure size 432x288 with 1 Axes>"
      ]
     },
     "metadata": {
      "needs_background": "light"
     },
     "output_type": "display_data"
    },
    {
     "data": {
      "text/plain": [
       "(0.6, -0.39999999999999947)"
      ]
     },
     "execution_count": 2,
     "metadata": {},
     "output_type": "execute_result"
    }
   ],
   "source": [
    "(x1,y1) = (9,5)\n",
    "(x2,y2) = (4,2)\n",
    " \n",
    "v=np.linspace(0,10,100)\n",
    "\n",
    "a = (y1 - y2)/(x1 - x2)\n",
    "b = y1 - a*x1\n",
    "\n",
    "yv = a*v+ b \n",
    "\n",
    "plt.plot(v,yv,c='g')\n",
    "plt.scatter([x1,x2],[y1,y2])\n",
    "plt.xlabel(\"x\")\n",
    "plt.ylabel(\"y\")\n",
    "plt.show()\n",
    "a,b"
   ]
  },
  {
   "cell_type": "markdown",
   "metadata": {},
   "source": [
    "### 1.1 - Add one more point\n",
    "\n",
    "What happend if we have one more point?\n",
    "\n",
    "$(x_3,y_3) = (7,2)$\n",
    "\n",
    "We have an overdetermined (and probably inconsistent) **linear** system:\n",
    "\n",
    "$ax_1 + b = y_1$\n",
    "\n",
    "$ax_2 + b = y_2$\n",
    "\n",
    "$ax_3 + b = y_3$\n",
    "\n",
    "$\\implies$ no solution"
   ]
  },
  {
   "cell_type": "code",
   "execution_count": 3,
   "metadata": {},
   "outputs": [
    {
     "data": {
      "image/png": "[encoded data removed]",
      "text/plain": [
       "<Figure size 432x288 with 1 Axes>"
      ]
     },
     "metadata": {
      "needs_background": "light"
     },
     "output_type": "display_data"
    }
   ],
   "source": [
    "(x3,y3) = (7,1)\n",
    "plt.plot(v,yv,c='g')\n",
    "plt.scatter([x1,x2,x3],[y1,y2,y3])\n",
    "plt.xlabel(\"x\")\n",
    "plt.ylabel(\"y\")\n",
    "plt.show()"
   ]
  },
  {
   "cell_type": "markdown",
   "metadata": {},
   "source": [
    "### 1.2 - Embrace the errors (and your first year)\n",
    "\n",
    "Two ideas:\n",
    "* Option 1: we need non-linear system solving (hard life)\n",
    "* Option 2: an **error** is the reason of the deviation of our simple model (regression)\n",
    "\n",
    "Let us asume now that \n",
    "\n",
    "$f(x_1) + \\epsilon_1 = y_1$\n",
    "\n",
    "$f(x_2) + \\epsilon_2 = y_2$\n",
    "\n",
    "$f(x_3) + \\epsilon_3 = y_3$\n",
    "\n",
    "Then, one could define:\n",
    "\n",
    "$J_1 = \\sum_i \\epsilon_i = \\sum_i | y_i - f(x_i) |$\n",
    "\n",
    "$J_1(a,b) = \\sum_i |y_i - a x_i - b|$\n",
    "\n",
    "$J_2 = \\sum_i \\epsilon_i = \\sum_i ( y_i - f(x_i) )^2$\n",
    "\n",
    "$J_2(a,b) = \\sum_i (y_i - a x_i - b)^2$\n",
    "\n",
    "$\\frac{\\partial J_2}{\\partial a}  =  0 $\n",
    "\n",
    "$\\frac{\\partial J_2}{\\partial b}  =  0 $\n"
   ]
  },
  {
   "cell_type": "code",
   "execution_count": 4,
   "metadata": {},
   "outputs": [],
   "source": [
    "def print_reg(a=0.6,b=0.0):\n",
    "    yv = a*v+ b \n",
    "    xx = np.array([x1,x2,x3])\n",
    "    yy = np.array([y1,y2,y3])\n",
    "    plt.plot(v,yv,c='g',label=\"model\")\n",
    "    plt.vlines(x=x1, ymin=min(y1,a*x1+b), ymax=max(y1,a*x1+b), color='r', label='$\\epsilon_1$')\n",
    "    plt.vlines(x=x2, ymin=min(y2,a*x2+b), ymax=max(y2,a*x2+b), color='r', label='$\\epsilon_2$')\n",
    "    plt.vlines(x=x3, ymin=min(y3,a*x3+b), ymax=max(y3,a*x3+b), color='r', label='$\\epsilon_3$')\n",
    "    diff = yy - a*xx + b\n",
    "    j1 = np.abs(diff).sum()\n",
    "    j2 = (diff*diff).sum()\n",
    "    plt.scatter(xx,yy,label=\"points\")\n",
    "    plt.xlabel(\"x\")\n",
    "    plt.ylabel(\"y\")\n",
    "    plt.annotate(\"j1 = \"+str(j1), xytext=(4, 9),xy = (4,9))\n",
    "    plt.annotate(\"j2 = \"+str(j2), xytext=(4, 8),xy = (4,8))\n",
    "    plt.ylim(0,10)\n",
    "    plt.legend();\n",
    "    plt.show()\n",
    "    "
   ]
  },
  {
   "cell_type": "code",
   "execution_count": 5,
   "metadata": {},
   "outputs": [
    {
     "data": {
      "application/vnd.jupyter.widget-view+json": {
       "model_id": "cf82493b77634c56aaf1f69e930c3da4",
       "version_major": 2,
       "version_minor": 0
      },
      "text/plain": [
       "interactive(children=(FloatSlider(value=0.6, description='a', max=2.0), FloatSlider(value=0.0, description='b'…"
      ]
     },
     "metadata": {},
     "output_type": "display_data"
    },
    {
     "data": {
      "text/plain": [
       "<function __main__.print_reg(a=0.6, b=0.0)>"
      ]
     },
     "execution_count": 5,
     "metadata": {},
     "output_type": "execute_result"
    }
   ],
   "source": [
    "from ipywidgets import interact \n",
    "\n",
    "interact(print_reg,a=(0.,2.,0.1),b=(-1.,1.,0.1))"
   ]
  },
  {
   "cell_type": "markdown",
   "metadata": {},
   "source": [
    "In regression you want to behave well when you actually use the model, not for the data that you have. We usually call **training data** to the data that you have. You can always keep some **test data** from the regressor to assess your regressor."
   ]
  },
  {
   "cell_type": "markdown",
   "metadata": {},
   "source": [
    "### 1.3 - Why is called linear regression?\n",
    "\n",
    "One can linearly regress:\n",
    "* $ f(x;a,b) = a x + b $\n",
    "* $ f(x;a,b) = a x^2 + bx$\n",
    "* $ f(x;a,b) = a \\log(x) + b x!$\n",
    "\n",
    "Linear regression is not linear with respect to $x$ (data): the searched **parameters need to be linear**.\n",
    "\n",
    "Non-Linear regression:\n",
    "* $ f(x;a,b) = a^2 x + b $\n",
    "* $ f(x;a,b) = e^{- a x - b} $ \n",
    "* $ f(x;a,b) = \\begin{cases} x & \\textrm{ if } a > b \\\\ 0 & \\textrm{ else } \\end{cases}$\n",
    "\n",
    "Stop thinking in straight line (at least in your data space)"
   ]
  },
  {
   "cell_type": "markdown",
   "metadata": {},
   "source": [
    "\n",
    "## 2 - The Principle of Generalization\n",
    "### (or why a simple regression is called Machine Learning)\n",
    "\n",
    "\n",
    "### 2.1 - Some Definitions\n",
    "\n",
    "### Over/Under Fitting \n",
    "\n",
    "Two important ideas in machine learning are **overfitting** and **underfitting**.\n",
    "\n",
    "If a model represents our data too accurately, it may not generalize well to unobserved data.\n",
    "\n",
    "### Bias\n",
    "\n",
    "It quantifies the precision of the model accross the training sets.\n",
    "\n",
    "### Variance \n",
    "\n",
    "It quantifies how sensitive the model is to small changes in the training set.\n",
    "\n",
    "![](images/biasvariance.png)\n",
    "\n",
    "### Complexity, accuracy, robustness\n",
    "\n",
    "In general, we want precise and robust models. \n",
    "\n",
    "**Simpler models tend to be less accurate, but more robust.**\n",
    "\n",
    "**More complex models tend to be more accurate, but less robust.**\n",
    "\n",
    "This tension is usually expressed as the **bias-variance trade-off** which is central to machine learning\n",
    "\n",
    "### Model selection\n",
    "\n",
    "No model performs uniformly better than the others. One model may perform better in one data set and badly on another.\n",
    "\n",
    "### Regularization\n",
    "\n",
    "A popular solution to reduce overfitting  consists of adding structure to the model through **regularization**. This favors simpler models through training inspired by **Occam's razor**."
   ]
  },
  {
   "cell_type": "markdown",
   "metadata": {},
   "source": [
    "### 2.2 -Let us use some real data...\n",
    "\n",
    "\n",
    "![title](images/iris.png)\n",
    "\n",
    "![title](images/irises.png)\n",
    "\n"
   ]
  },
  {
   "cell_type": "code",
   "execution_count": 6,
   "metadata": {},
   "outputs": [
    {
     "data": {
      "text/html": [
       "<div>\n",
       "<style scoped>\n",
       "    .dataframe tbody tr th:only-of-type {\n",
       "        vertical-align: middle;\n",
       "    }\n",
       "\n",
       "    .dataframe tbody tr th {\n",
       "        vertical-align: top;\n",
       "    }\n",
       "\n",
       "    .dataframe thead th {\n",
       "        text-align: right;\n",
       "    }\n",
       "</style>\n",
       "<table border=\"1\" class=\"dataframe\">\n",
       "  <thead>\n",
       "    <tr style=\"text-align: right;\">\n",
       "      <th></th>\n",
       "      <th>sepal_length</th>\n",
       "      <th>sepal_width</th>\n",
       "      <th>petal_length</th>\n",
       "      <th>petal_width</th>\n",
       "      <th>species</th>\n",
       "    </tr>\n",
       "  </thead>\n",
       "  <tbody>\n",
       "    <tr>\n",
       "      <th>0</th>\n",
       "      <td>5.1</td>\n",
       "      <td>3.5</td>\n",
       "      <td>1.4</td>\n",
       "      <td>0.2</td>\n",
       "      <td>setosa</td>\n",
       "    </tr>\n",
       "    <tr>\n",
       "      <th>1</th>\n",
       "      <td>4.9</td>\n",
       "      <td>3.0</td>\n",
       "      <td>1.4</td>\n",
       "      <td>0.2</td>\n",
       "      <td>setosa</td>\n",
       "    </tr>\n",
       "    <tr>\n",
       "      <th>2</th>\n",
       "      <td>4.7</td>\n",
       "      <td>3.2</td>\n",
       "      <td>1.3</td>\n",
       "      <td>0.2</td>\n",
       "      <td>setosa</td>\n",
       "    </tr>\n",
       "    <tr>\n",
       "      <th>3</th>\n",
       "      <td>4.6</td>\n",
       "      <td>3.1</td>\n",
       "      <td>1.5</td>\n",
       "      <td>0.2</td>\n",
       "      <td>setosa</td>\n",
       "    </tr>\n",
       "    <tr>\n",
       "      <th>4</th>\n",
       "      <td>5.0</td>\n",
       "      <td>3.6</td>\n",
       "      <td>1.4</td>\n",
       "      <td>0.2</td>\n",
       "      <td>setosa</td>\n",
       "    </tr>\n",
       "    <tr>\n",
       "      <th>...</th>\n",
       "      <td>...</td>\n",
       "      <td>...</td>\n",
       "      <td>...</td>\n",
       "      <td>...</td>\n",
       "      <td>...</td>\n",
       "    </tr>\n",
       "    <tr>\n",
       "      <th>145</th>\n",
       "      <td>6.7</td>\n",
       "      <td>3.0</td>\n",
       "      <td>5.2</td>\n",
       "      <td>2.3</td>\n",
       "      <td>virginica</td>\n",
       "    </tr>\n",
       "    <tr>\n",
       "      <th>146</th>\n",
       "      <td>6.3</td>\n",
       "      <td>2.5</td>\n",
       "      <td>5.0</td>\n",
       "      <td>1.9</td>\n",
       "      <td>virginica</td>\n",
       "    </tr>\n",
       "    <tr>\n",
       "      <th>147</th>\n",
       "      <td>6.5</td>\n",
       "      <td>3.0</td>\n",
       "      <td>5.2</td>\n",
       "      <td>2.0</td>\n",
       "      <td>virginica</td>\n",
       "    </tr>\n",
       "    <tr>\n",
       "      <th>148</th>\n",
       "      <td>6.2</td>\n",
       "      <td>3.4</td>\n",
       "      <td>5.4</td>\n",
       "      <td>2.3</td>\n",
       "      <td>virginica</td>\n",
       "    </tr>\n",
       "    <tr>\n",
       "      <th>149</th>\n",
       "      <td>5.9</td>\n",
       "      <td>3.0</td>\n",
       "      <td>5.1</td>\n",
       "      <td>1.8</td>\n",
       "      <td>virginica</td>\n",
       "    </tr>\n",
       "  </tbody>\n",
       "</table>\n",
       "<p>150 rows × 5 columns</p>\n",
       "</div>"
      ],
      "text/plain": [
       "     sepal_length  sepal_width  petal_length  petal_width    species\n",
       "0             5.1          3.5           1.4          0.2     setosa\n",
       "1             4.9          3.0           1.4          0.2     setosa\n",
       "2             4.7          3.2           1.3          0.2     setosa\n",
       "3             4.6          3.1           1.5          0.2     setosa\n",
       "4             5.0          3.6           1.4          0.2     setosa\n",
       "..            ...          ...           ...          ...        ...\n",
       "145           6.7          3.0           5.2          2.3  virginica\n",
       "146           6.3          2.5           5.0          1.9  virginica\n",
       "147           6.5          3.0           5.2          2.0  virginica\n",
       "148           6.2          3.4           5.4          2.3  virginica\n",
       "149           5.9          3.0           5.1          1.8  virginica\n",
       "\n",
       "[150 rows x 5 columns]"
      ]
     },
     "execution_count": 6,
     "metadata": {},
     "output_type": "execute_result"
    }
   ],
   "source": [
    "import seaborn as sns\n",
    "%matplotlib inline\n",
    "sns.set(style=\"ticks\")\n",
    "\n",
    "dfIris = sns.load_dataset(\"iris\")\n",
    "dfIris"
   ]
  },
  {
   "cell_type": "code",
   "execution_count": 7,
   "metadata": {},
   "outputs": [],
   "source": [
    "import numpy as np\n",
    "X=dfIris[['petal_length']]\n",
    "y=dfIris[['petal_width']]\n",
    "xvals=np.linspace(X.min(),X.max(),200)"
   ]
  },
  {
   "cell_type": "code",
   "execution_count": 8,
   "metadata": {},
   "outputs": [
    {
     "name": "stderr",
     "output_type": "stream",
     "text": [
      "*c* argument looks like a single numeric RGB or RGBA sequence, which should be avoided as value-mapping will have precedence in case its length matches with *x* & *y*.  Please use the *color* keyword-argument or provide a 2-D array with a single row if you intend to specify the same RGB or RGBA value for all points.\n"
     ]
    },
    {
     "data": {
      "image/png": "[encoded data removed]",
      "text/plain": [
       "<Figure size 432x288 with 1 Axes>"
      ]
     },
     "metadata": {},
     "output_type": "display_data"
    }
   ],
   "source": [
    "dfIris.plot.scatter(['petal_length'],['petal_width'])\n",
    "\n",
    "import numpy as np\n",
    "X=dfIris[['petal_length']]\n",
    "y=dfIris[['petal_width']]\n",
    "xvals=np.linspace(X.min(),X.max(),200)"
   ]
  },
  {
   "cell_type": "markdown",
   "metadata": {},
   "source": [
    "### 2.3 - Polinomial Model \n",
    "#### Remember Linear Algebra... it is back to haunt you!!!\n",
    "\n",
    "We can define a *+polinomial model**:\n",
    "* $ \\mathbf{g} = g(x) = [1, x, x^2, x^3,\\ldots,x^k], g: \\mathbb{R} \\mapsto \\mathbb{R}^{k+1}  $\n",
    "* $ \\mathbf{w}^T \\mathbf{g} = w_0 + w_1 x + w_2 x^2 + w_3 x^3 \\ldots + w_k x^k $\n",
    "\n",
    "\n",
    "We can have several degrees then...\n",
    "* d=1) $ \\mathbf{w}^T \\mathbf{g} = w_0 + w_1\\cdot x $\n",
    "* d=2) $ \\mathbf{w}^T \\mathbf{g} = w_0 + w_1\\cdot x + w_2\\cdot x^2 $\n",
    "* d=3) $ \\mathbf{w}^T \\mathbf{g} = w_0 + w_1\\cdot x + w_2\\cdot x^2 + w_3\\cdot x^3$"
   ]
  },
  {
   "cell_type": "code",
   "execution_count": 9,
   "metadata": {},
   "outputs": [],
   "source": [
    "%matplotlib inline\n",
    "from sklearn.linear_model import Ridge,Lasso,LinearRegression\n",
    "from sklearn.preprocessing import PolynomialFeatures\n",
    "import matplotlib.pyplot as plt\n",
    "\n",
    "def train_and_plot(d=15,a=0.00):\n",
    "    gen_poly_terms = PolynomialFeatures(degree=d)\n",
    "    X_train_with_poly = gen_poly_terms.fit_transform(X)\n",
    "    #poly_regression = Lasso(alpha=a)\n",
    "    #poly_regression = Ridge(alpha=a)\n",
    "    poly_regression = LinearRegression()\n",
    "    poly_regression.fit(X_train_with_poly, y)\n",
    "    poly_vals=gen_poly_terms.transform(xvals)\n",
    "    y_pred=poly_regression.predict(poly_vals)\n",
    "    fig, ax = plt.subplots()\n",
    "    dfIris.plot.scatter('petal_length','petal_width',color='gray',alpha=0.1,label='data',ax=ax)\n",
    "    ax.plot(xvals,y_pred, color='red', linewidth=1.0, label='regression line')\n",
    "    plt.legend()\n",
    "    plt.figure()\n",
    "    plt.bar(range(len(poly_regression.coef_[0])),poly_regression.coef_[0])\n",
    "    #plt.bar(range(len(poly_regression.coef_)),poly_regression.coef_)"
   ]
  },
  {
   "cell_type": "code",
   "execution_count": 10,
   "metadata": {},
   "outputs": [
    {
     "data": {
      "application/vnd.jupyter.widget-view+json": {
       "model_id": "a5313a080a8844e5ba436909582b9705",
       "version_major": 2,
       "version_minor": 0
      },
      "text/plain": [
       "interactive(children=(IntSlider(value=15, description='d', max=30, min=2), FloatSlider(value=0.0, description=…"
      ]
     },
     "metadata": {},
     "output_type": "display_data"
    },
    {
     "data": {
      "text/plain": [
       "<function __main__.train_and_plot(d=15, a=0.0)>"
      ]
     },
     "execution_count": 10,
     "metadata": {},
     "output_type": "execute_result"
    }
   ],
   "source": [
    "from ipywidgets import interact\n",
    "interact(train_and_plot,d=(2,30),a=(0.0,100.0))"
   ]
  },
  {
   "cell_type": "markdown",
   "metadata": {},
   "source": [
    "## 3 - Generalized Regression \n",
    "### Lets go hiperdimensional....\n",
    "\n",
    "What is a linear model?\n",
    "$$ y = f(\\mathbf{x};\\mathbf{w}) = \\sum_j w_j \\phi_j(\\mathbf{x}) + \\epsilon = \\mathbf{w}^\\textrm{T} \\boldsymbol{\\phi}(\\mathbf{x}) + \\epsilon $$\n",
    "\n",
    "Examples:\n",
    "* Polinomial: $\\phi_j(\\mathbf{x}) = \\|\\mathbf{x}\\|^j$\n",
    "* Gaussian: $\\phi_j(\\mathbf{x}) = \\exp\\left\\{\\frac{- \\|\\mathbf{x} - \\boldsymbol{\\mu}_j\\|^2}{2s^2}\\right\\}$\n",
    "* Sigmoidal: $\\phi_j(\\mathbf{x}) = \\sigma\\left(\\frac{\\|\\mathbf{x} - \\boldsymbol{\\mu}_j\\|}{s}\\right)= \\frac{1}{1 + \\exp\\left( \\frac{-\\|\\mathbf{x} - \\boldsymbol{\\mu}_j\\|}{s}\\right)}$"
   ]
  },
  {
   "cell_type": "code",
   "execution_count": 11,
   "metadata": {},
   "outputs": [
    {
     "data": {
      "application/vnd.jupyter.widget-view+json": {
       "model_id": "27eb7d9947884fe99e95748c948408fb",
       "version_major": 2,
       "version_minor": 0
      },
      "text/plain": [
       "interactive(children=(FloatSlider(value=0.0, description='mu', max=2.0, min=-2.0), FloatSlider(value=1.0, desc…"
      ]
     },
     "metadata": {},
     "output_type": "display_data"
    },
    {
     "data": {
      "text/plain": [
       "<function __main__.show_gaussian(mu=0.0, s=1.0)>"
      ]
     },
     "execution_count": 11,
     "metadata": {},
     "output_type": "execute_result"
    }
   ],
   "source": [
    "import matplotlib.pyplot as plt\n",
    "import numpy as np\n",
    "from ipywidgets import interact\n",
    "\n",
    "def show_gaussian(mu=0.0,s=1.0):\n",
    "    a = np.arange(-10, 10, 0.1)\n",
    "    plt.plot(a, np.exp(-(a-mu)**2/(2*s**2)))\n",
    "interact(show_gaussian,mu=(-2.0,2.0),s=(0.1,10))"
   ]
  },
  {
   "cell_type": "code",
   "execution_count": 12,
   "metadata": {},
   "outputs": [
    {
     "data": {
      "application/vnd.jupyter.widget-view+json": {
       "model_id": "407d8c50ac1d44488d3220f90b12d141",
       "version_major": 2,
       "version_minor": 0
      },
      "text/plain": [
       "interactive(children=(FloatSlider(value=0.0, description='mu', max=2.0, min=-2.0), FloatSlider(value=1.0, desc…"
      ]
     },
     "metadata": {},
     "output_type": "display_data"
    },
    {
     "data": {
      "text/plain": [
       "<function __main__.show_sigmoid(mu=0.0, s=1.0)>"
      ]
     },
     "execution_count": 12,
     "metadata": {},
     "output_type": "execute_result"
    }
   ],
   "source": [
    "def show_sigmoid(mu=0.0,s=1.0):\n",
    "    a = np.arange(-10, 10, 0.1)\n",
    "    plt.plot(a, 1./(1. + np.exp(-(a-mu)/s)))\n",
    "interact(show_sigmoid,mu=(-2.0,2.0),s=(0.1,10))"
   ]
  },
  {
   "cell_type": "markdown",
   "metadata": {},
   "source": [
    "### 3.1 - Errors and Probabilities (Third year?)\n",
    "\n",
    "Imagine you fix every $\\mu_j$ and $s$. \n",
    "\n",
    "<b>How we can learn</b> $\\mathbf{w}$ assuming Gaussian noise $\\epsilon \\sim N(\\mu,\\sigma)$?\n",
    "\n",
    "$$\\begin{align} Pr(Y \\mid \\mathbf{X},\\mathbf{y}) &= \\prod_i \\mathcal{N}(Y = y_i \\mid f(\\mathbf{x}_i;\\mathbf{w}),\\sigma)\\\\ &= \\prod_i \\mathcal{N}(Y = y_i \\mid \\mathbf{w}^\\textrm{T} \\boldsymbol{\\phi}(\\mathbf{x}_i),\\sigma)\\end{align} $$\n",
    "\n",
    "We want to maximize this probability\n",
    "\n",
    "$$ \\begin{align} \\ln Pr(Y \\mid \\mathbf{X},\\mathbf{y}) & = \\sum_i \\ln \\mathcal{N}(Y = y_i \\mid \\mathbf{w}^\\textrm{T} \\boldsymbol{\\phi}(\\mathbf{x}_i),\\sigma)\\\\ & \\propto \\sum_i\\left( y_i - \\mathbf{w}^\\textrm{T} \\boldsymbol{\\phi}(\\mathbf{x}_i)\\right)^2 \\end{align} $$\n",
    "\n",
    "If we compute the gradient of this\n",
    "$$ \\begin{align} \\nabla\\ln Pr(Y \\mid \\mathbf{X},\\mathbf{y}) & = \\sum_i\\left( y_i - \\mathbf{w}^\\textrm{T}\\boldsymbol{\\phi}(\\mathbf{x}_i)\\right)\\boldsymbol{\\phi}(\\mathbf{x}_i)^\\textrm{T} \\\\\n",
    "\\nabla\\ln Pr(Y \\mid \\mathbf{X},\\mathbf{y}) &= \\mathbf{0} \\\\\n",
    "\\sum_i y_i \\boldsymbol{\\phi}(\\mathbf{x}_i)^\\textrm{T} &= \\mathbf{w}^\\textrm{T}\\sum_i\\boldsymbol{\\phi}(\\mathbf{x}_i)\\boldsymbol{\\phi}(\\mathbf{x}_i)^\\textrm{T}\\\\\n",
    "\\mathbf{y}^\\textrm{T}\\boldsymbol{\\Phi} &= \\mathbf{w}^\\textrm{T}\\boldsymbol{\\Phi}\\boldsymbol{\\Phi}^\\textrm{T}\\\\\n",
    "\\mathbf{w} &= (\\boldsymbol{\\Phi}^\\textrm{T}\\boldsymbol{\\Phi})^{-1}\\boldsymbol{\\Phi}^\\textrm{T}\\mathbf{y}\n",
    "\\end{align}$$\n",
    "\n",
    "The $\\boldsymbol{\\Phi}$ is called the <b>Design Matrix</b> and have the form:\n",
    "$$\\begin{bmatrix}\n",
    "1 & \\phi_1(\\mathbf{x}_1) & \\phi_2(\\mathbf{x}_1) & \\ldots & \\phi_m(\\mathbf{x}_1)\\\\\n",
    "1 & \\phi_1(\\mathbf{x}_2) & \\phi_2(\\mathbf{x}_2) & \\ldots & \\phi_m(\\mathbf{x}_2)\\\\\n",
    "\\vdots & \\vdots & \\vdots & \\ddots & \\vdots\\\\\n",
    "1 & \\phi_1(\\mathbf{x}_n) & \\phi_2(\\mathbf{x}_n) & \\ldots & \\phi_m(\\mathbf{x}_n)\n",
    "\\end{bmatrix}$$"
   ]
  },
  {
   "cell_type": "markdown",
   "metadata": {},
   "source": [
    "### 3.2 - Why Gaussian ?\n",
    "\n",
    "It is nice that Gaussian $\\implies$ least squares method!, but why is a good idea?\n",
    "\n",
    "#### You cannot model everything!\n",
    "\n",
    "There is a relation between weight and height? Obviously! Let us assume that it is linear: what other minor factors modify this? \n",
    "* xxx \n",
    "* yyy\n",
    "* zzz\n",
    "* www\n",
    "\n",
    "All these effects are **convolved** in a probability space. Impresively, **no matter which shape** they have, they will converge to **Gaussians**...\n",
    "\n",
    "The Central Limit Theorem is out of scope of this course, but....\n",
    "\n",
    "from IPython.display import HTML\n",
    "\n",
    "### Youtube to the rescue\n",
    "\n",
    "\n"
   ]
  },
  {
   "cell_type": "code",
   "execution_count": 13,
   "metadata": {},
   "outputs": [
    {
     "data": {
      "image/jpeg": "[encoded data removed]",
      "text/html": [
       "\n",
       "        <iframe\n",
       "            width=\"800\"\n",
       "            height=\"600\"\n",
       "            src=\"https://www.youtube.com/embed/U84pzAQRJfo\"\n",
       "            frameborder=\"0\"\n",
       "            allowfullscreen\n",
       "        ></iframe>\n",
       "        "
      ],
      "text/plain": [
       "<IPython.lib.display.YouTubeVideo at 0x12471bbb0>"
      ]
     },
     "execution_count": 13,
     "metadata": {},
     "output_type": "execute_result"
    }
   ],
   "source": [
    "\n",
    "from IPython.display import YouTubeVideo\n",
    "\n",
    "from IPython.display import YouTubeVideo\n",
    "\n",
    "def display_yotube_video(url, **kwargs):\n",
    "    id_ = url.split(\"=\")[-1]\n",
    "    return YouTubeVideo(id_, **kwargs)\n",
    "\n",
    "display_yotube_video(\"https://www.youtube.com/watch?v=U84pzAQRJfo\", width=800, height=600)\n"
   ]
  },
  {
   "cell_type": "markdown",
   "metadata": {},
   "source": [
    "### 3.3 - Use now ALL the dimensions now and select $\\mu$'s \n",
    "* Check if you have all the dimensions of the training and validation sets (not one like in the previous example)\n",
    "* Resample to n=100 o similar for working\n",
    "* Select 20 points of the training sample to use as $\\mu$ values\n",
    "* It will be handy for later doing this in a function, recieving the number of total samples $(n,m)$"
   ]
  },
  {
   "cell_type": "code",
   "execution_count": 14,
   "metadata": {},
   "outputs": [],
   "source": [
    "iris_sample = dfIris.sample(n=100,random_state=3)\n",
    "X = iris_sample[['sepal_length','sepal_width','petal_length']].T\n",
    "y = iris_sample['petal_width']"
   ]
  },
  {
   "cell_type": "code",
   "execution_count": 15,
   "metadata": {
    "scrolled": true
   },
   "outputs": [
    {
     "data": {
      "text/html": [
       "<div>\n",
       "<style scoped>\n",
       "    .dataframe tbody tr th:only-of-type {\n",
       "        vertical-align: middle;\n",
       "    }\n",
       "\n",
       "    .dataframe tbody tr th {\n",
       "        vertical-align: top;\n",
       "    }\n",
       "\n",
       "    .dataframe thead th {\n",
       "        text-align: right;\n",
       "    }\n",
       "</style>\n",
       "<table border=\"1\" class=\"dataframe\">\n",
       "  <thead>\n",
       "    <tr style=\"text-align: right;\">\n",
       "      <th></th>\n",
       "      <th>47</th>\n",
       "      <th>3</th>\n",
       "      <th>31</th>\n",
       "      <th>25</th>\n",
       "      <th>15</th>\n",
       "      <th>118</th>\n",
       "      <th>89</th>\n",
       "      <th>6</th>\n",
       "      <th>103</th>\n",
       "      <th>65</th>\n",
       "      <th>...</th>\n",
       "      <th>13</th>\n",
       "      <th>55</th>\n",
       "      <th>75</th>\n",
       "      <th>132</th>\n",
       "      <th>148</th>\n",
       "      <th>32</th>\n",
       "      <th>80</th>\n",
       "      <th>16</th>\n",
       "      <th>91</th>\n",
       "      <th>74</th>\n",
       "    </tr>\n",
       "  </thead>\n",
       "  <tbody>\n",
       "    <tr>\n",
       "      <th>sepal_length</th>\n",
       "      <td>4.6</td>\n",
       "      <td>4.6</td>\n",
       "      <td>5.4</td>\n",
       "      <td>5.0</td>\n",
       "      <td>5.7</td>\n",
       "      <td>7.7</td>\n",
       "      <td>5.5</td>\n",
       "      <td>4.6</td>\n",
       "      <td>6.3</td>\n",
       "      <td>6.7</td>\n",
       "      <td>...</td>\n",
       "      <td>4.3</td>\n",
       "      <td>5.7</td>\n",
       "      <td>6.6</td>\n",
       "      <td>6.4</td>\n",
       "      <td>6.2</td>\n",
       "      <td>5.2</td>\n",
       "      <td>5.5</td>\n",
       "      <td>5.4</td>\n",
       "      <td>6.1</td>\n",
       "      <td>6.4</td>\n",
       "    </tr>\n",
       "    <tr>\n",
       "      <th>sepal_width</th>\n",
       "      <td>3.2</td>\n",
       "      <td>3.1</td>\n",
       "      <td>3.4</td>\n",
       "      <td>3.0</td>\n",
       "      <td>4.4</td>\n",
       "      <td>2.6</td>\n",
       "      <td>2.5</td>\n",
       "      <td>3.4</td>\n",
       "      <td>2.9</td>\n",
       "      <td>3.1</td>\n",
       "      <td>...</td>\n",
       "      <td>3.0</td>\n",
       "      <td>2.8</td>\n",
       "      <td>3.0</td>\n",
       "      <td>2.8</td>\n",
       "      <td>3.4</td>\n",
       "      <td>4.1</td>\n",
       "      <td>2.4</td>\n",
       "      <td>3.9</td>\n",
       "      <td>3.0</td>\n",
       "      <td>2.9</td>\n",
       "    </tr>\n",
       "    <tr>\n",
       "      <th>petal_length</th>\n",
       "      <td>1.4</td>\n",
       "      <td>1.5</td>\n",
       "      <td>1.5</td>\n",
       "      <td>1.6</td>\n",
       "      <td>1.5</td>\n",
       "      <td>6.9</td>\n",
       "      <td>4.0</td>\n",
       "      <td>1.4</td>\n",
       "      <td>5.6</td>\n",
       "      <td>4.4</td>\n",
       "      <td>...</td>\n",
       "      <td>1.1</td>\n",
       "      <td>4.5</td>\n",
       "      <td>4.4</td>\n",
       "      <td>5.6</td>\n",
       "      <td>5.4</td>\n",
       "      <td>1.5</td>\n",
       "      <td>3.8</td>\n",
       "      <td>1.3</td>\n",
       "      <td>4.6</td>\n",
       "      <td>4.3</td>\n",
       "    </tr>\n",
       "  </tbody>\n",
       "</table>\n",
       "<p>3 rows × 100 columns</p>\n",
       "</div>"
      ],
      "text/plain": [
       "              47   3    31   25   15   118  89   6    103  65   ...  13   55   \\\n",
       "sepal_length  4.6  4.6  5.4  5.0  5.7  7.7  5.5  4.6  6.3  6.7  ...  4.3  5.7   \n",
       "sepal_width   3.2  3.1  3.4  3.0  4.4  2.6  2.5  3.4  2.9  3.1  ...  3.0  2.8   \n",
       "petal_length  1.4  1.5  1.5  1.6  1.5  6.9  4.0  1.4  5.6  4.4  ...  1.1  4.5   \n",
       "\n",
       "              75   132  148  32   80   16   91   74   \n",
       "sepal_length  6.6  6.4  6.2  5.2  5.5  5.4  6.1  6.4  \n",
       "sepal_width   3.0  2.8  3.4  4.1  2.4  3.9  3.0  2.9  \n",
       "petal_length  4.4  5.6  5.4  1.5  3.8  1.3  4.6  4.3  \n",
       "\n",
       "[3 rows x 100 columns]"
      ]
     },
     "execution_count": 15,
     "metadata": {},
     "output_type": "execute_result"
    }
   ],
   "source": [
    "X"
   ]
  },
  {
   "cell_type": "code",
   "execution_count": 16,
   "metadata": {},
   "outputs": [],
   "source": [
    "M2  = np.dot(X.T,X)\n",
    "Xinv=np.linalg.inv( M2 + 10000**np.eye(M2.shape[0]))\n",
    "w = Xinv.dot(X.T).T.dot(y)"
   ]
  },
  {
   "cell_type": "code",
   "execution_count": null,
   "metadata": {},
   "outputs": [],
   "source": []
  },
  {
   "cell_type": "code",
   "execution_count": 17,
   "metadata": {},
   "outputs": [],
   "source": [
    "y_est = w.dot(X.to_numpy())"
   ]
  },
  {
   "cell_type": "code",
   "execution_count": 18,
   "metadata": {
    "scrolled": true
   },
   "outputs": [
    {
     "data": {
      "text/plain": [
       "Text(0.5, 0, 'Real')"
      ]
     },
     "execution_count": 18,
     "metadata": {},
     "output_type": "execute_result"
    },
    {
     "data": {
      "image/png": "[encoded data removed]",
      "text/plain": [
       "<Figure size 432x288 with 1 Axes>"
      ]
     },
     "metadata": {
      "needs_background": "light"
     },
     "output_type": "display_data"
    }
   ],
   "source": [
    "plt.scatter(y,y_est)\n",
    "plt.ylabel(\"Estimado\")\n",
    "plt.xlabel(\"Real\")"
   ]
  },
  {
   "cell_type": "code",
   "execution_count": null,
   "metadata": {},
   "outputs": [],
   "source": []
  },
  {
   "cell_type": "code",
   "execution_count": 19,
   "metadata": {
    "scrolled": true,
    "tags": []
   },
   "outputs": [
    {
     "data": {
      "text/plain": [
       "(     sepal_length  sepal_width  petal_length\n",
       " 114           5.8          2.8           5.1\n",
       " 62            6.0          2.2           4.0\n",
       " 33            5.5          4.2           1.4\n",
       " 107           7.3          2.9           6.3\n",
       " 7             5.0          3.4           1.5\n",
       " ..            ...          ...           ...\n",
       " 111           6.4          2.7           5.3\n",
       " 95            5.7          3.0           4.2\n",
       " 20            5.4          3.4           1.7\n",
       " 15            5.7          4.4           1.5\n",
       " 52            6.9          3.1           4.9\n",
       " \n",
       " [75 rows x 3 columns],\n",
       " 114    2.4\n",
       " 62     1.0\n",
       " 33     0.2\n",
       " 107    1.8\n",
       " 7      0.2\n",
       "       ... \n",
       " 111    1.9\n",
       " 95     1.2\n",
       " 20     0.2\n",
       " 15     0.4\n",
       " 52     1.5\n",
       " Name: petal_width, Length: 75, dtype: float64,\n",
       "      sepal_length  sepal_width  petal_length\n",
       " 56            6.3          3.3           4.7\n",
       " 146           6.3          2.5           5.0\n",
       " 24            4.8          3.4           1.9\n",
       " 52            6.9          3.1           4.9\n",
       " 93            5.0          2.3           3.3\n",
       " 44            5.1          3.8           1.9\n",
       " 91            6.1          3.0           4.6\n",
       " 123           6.3          2.7           4.9\n",
       " 132           6.4          2.8           5.6\n",
       " 86            6.7          3.1           4.7\n",
       " 43            5.0          3.5           1.6\n",
       " 147           6.5          3.0           5.2\n",
       " 2             4.7          3.2           1.3\n",
       " 112           6.8          3.0           5.5\n",
       " 127           6.1          3.0           4.9\n",
       " 111           6.4          2.7           5.3\n",
       " 97            6.2          2.9           4.3\n",
       " 108           6.7          2.5           5.8\n",
       " 85            6.0          3.4           4.5\n",
       " 106           4.9          2.5           4.5,\n",
       "      sepal_length  sepal_width  petal_length\n",
       " 22            4.6          3.6           1.0\n",
       " 44            5.1          3.8           1.9\n",
       " 97            6.2          2.9           4.3\n",
       " 93            5.0          2.3           3.3\n",
       " 26            5.0          3.4           1.6\n",
       " ..            ...          ...           ...\n",
       " 139           6.9          3.1           5.4\n",
       " 42            4.4          3.2           1.3\n",
       " 4             5.0          3.6           1.4\n",
       " 129           7.2          3.0           5.8\n",
       " 17            5.1          3.5           1.4\n",
       " \n",
       " [75 rows x 3 columns],\n",
       " 22     0.2\n",
       " 44     0.4\n",
       " 97     1.3\n",
       " 93     1.0\n",
       " 26     0.4\n",
       "       ... \n",
       " 139    2.1\n",
       " 42     0.2\n",
       " 4      0.2\n",
       " 129    1.6\n",
       " 17     0.3\n",
       " Name: petal_width, Length: 75, dtype: float64)"
      ]
     },
     "execution_count": 19,
     "metadata": {},
     "output_type": "execute_result"
    }
   ],
   "source": [
    "def get_matrices(n,m):\n",
    "    iris_sample = dfIris.sample(n=n,random_state=0)\n",
    "    train_data = iris_sample[:int(len(iris_sample)*0.75)]\n",
    "    test_data = iris_sample[int(len(iris_sample)*0.25):]\n",
    "    X=train_data[['sepal_length','sepal_width','petal_length']]\n",
    "    y=train_data['petal_width']\n",
    "    mu=X.sample(n=m,random_state=0)\n",
    "    Xp=test_data[['sepal_length','sepal_width','petal_length']]\n",
    "    yp=test_data['petal_width']\n",
    "    return(X,y,mu,Xp,yp)\n",
    "get_matrices(100,20)"
   ]
  },
  {
   "cell_type": "markdown",
   "metadata": {},
   "source": [
    "### 3.4 - Construct your own design matrix\n",
    "* Choose a not so trivial kernel (i.e. Gaussian/Sigmoidal)\n",
    "* Use the L2-norm $\\|\\cdot\\|_2$ and remember that\n",
    "$$ (\\mathbf{a} - \\mathbf{b})^\\textrm{T}(\\mathbf{a} - \\mathbf{b}) = \\mathbf{a}^\\textrm{T}\\mathbf{a} + \\mathbf{b}^\\textrm{T}\\mathbf{b} - 2\\mathbf{a}^\\textrm{T}\\mathbf{b} $$ and remember to round up to 10 decimals\n",
    "* Plot the matrix using `plt.imshow`"
   ]
  },
  {
   "cell_type": "code",
   "execution_count": 20,
   "metadata": {},
   "outputs": [],
   "source": [
    "def design_matrix(X,mu,s,func):\n",
    "    vx   = (X*X).sum(axis=1)\n",
    "    vmu  = (mu*mu).sum(axis=1)\n",
    "    Mxmu = X.dot(mu.T)\n",
    "    A=np.tile(vx,((len(vmu),1))).T\n",
    "    B=np.tile(vmu,((len(vx),1)))\n",
    "    C=Mxmu\n",
    "    \n",
    "    D=A + B -2*C\n",
    "    D=np.around(D,decimals=10)\n",
    "    N=np.sqrt(D)\n",
    "    N=func(N,s)\n",
    "    N=np.concatenate([np.ones((len(X),1)),N], axis=1)\n",
    "    return N"
   ]
  },
  {
   "cell_type": "code",
   "execution_count": 21,
   "metadata": {
    "scrolled": true
   },
   "outputs": [
    {
     "data": {
      "text/plain": [
       "<matplotlib.colorbar.Colorbar at 0x124c7cbb0>"
      ]
     },
     "execution_count": 21,
     "metadata": {},
     "output_type": "execute_result"
    },
    {
     "data": {
      "image/png": "[encoded data removed]",
      "text/plain": [
       "<Figure size 432x288 with 2 Axes>"
      ]
     },
     "metadata": {
      "needs_background": "light"
     },
     "output_type": "display_data"
    },
    {
     "data": {
      "image/png": "[encoded data removed]",
      "text/plain": [
       "<Figure size 432x288 with 2 Axes>"
      ]
     },
     "metadata": {
      "needs_background": "light"
     },
     "output_type": "display_data"
    }
   ],
   "source": [
    "gauss = lambda x,s: np.exp(-(x)**2/(2*s**2))\n",
    "sigmo = lambda x,s:1./(1. + np.exp(-x/s))\n",
    "\n",
    "X,y,mu,Xp,yp = get_matrices(150,20)\n",
    "\n",
    "#ESTO LO PUSE YO PARA ENTENDER EL CODIGO-------------------\n",
    "''' vx   = (X*X).sum(axis=1);\n",
    "vmu  = (mu*mu).sum(axis=1);\n",
    "Mxmu = X.dot(mu.T);\n",
    "A=np.tile(vx,((len(vmu),1))).T\n",
    "B=np.tile(vmu,((len(vx),1)))\n",
    "C=Mxmu    \n",
    "D=A + B -2*C\n",
    "D=np.around(D,decimals=10)\n",
    "N=np.sqrt(D)\n",
    "N = gauss(N,1.0)\n",
    "N=np.concatenate([np.ones((len(X),1)),N], axis=1) '''\n",
    "#FIN DE LO QUE PUSE YO--------------------------------------\n",
    "\n",
    "\n",
    "plt.imshow(design_matrix(X,mu,1.0,gauss)[:20])\n",
    "plt.colorbar()\n",
    "plt.figure()\n",
    "plt.imshow(design_matrix(X,mu,1.0,sigmo)[:20])\n",
    "plt.colorbar()"
   ]
  },
  {
   "cell_type": "markdown",
   "metadata": {},
   "source": [
    "### 3.5 - Train and Predict\n",
    "* Get a design matrix\n",
    "* Compute $\\mathbf{w} = (\\boldsymbol{\\Phi}^\\textrm{T}\\boldsymbol{\\Phi})^{-1}\\boldsymbol{\\Phi}^\\textrm{T}\\mathbf{y}$ using `scipy.linal` package for computing the inverse. Remember that this model is not regularized, so compute the pseudo-inverse.\n",
    "* Get the \"predictions\" for the training data $\\mathbf{w}^\\textrm{T}\\boldsymbol{\\Phi}_\\mathbf{X}$\n",
    "* Get the predictions for the test/validation data $\\mathbf{w}^\\textrm{T}\\boldsymbol{\\Phi}_\\mathbf{X'}$"
   ]
  },
  {
   "cell_type": "code",
   "execution_count": 22,
   "metadata": {},
   "outputs": [],
   "source": [
    "from scipy import linalg\n",
    "def train_and_predict(X,y,mu,Xp,yp,s,func):\n",
    "    # Get the design matrix\n",
    "    P=design_matrix(X,mu,s,func)\n",
    "    # Get the weights\n",
    "    w=linalg.pinv(P.T.dot(P)).dot(P.T).dot(y)\n",
    "    # Predict \n",
    "    pred_y = P.dot(w)\n",
    "    Pp = design_matrix(Xp,mu,s,func)\n",
    "    pred_yp = Pp.dot(w)\n",
    "    return (pred_y,pred_yp)"
   ]
  },
  {
   "cell_type": "code",
   "execution_count": 23,
   "metadata": {},
   "outputs": [],
   "source": [
    "X,y,mu,Xp,yp     = get_matrices(150,20)\n",
    "(pred_y,pred_yp) = train_and_predict(X,y,mu,Xp,yp,1.0,gauss)"
   ]
  },
  {
   "cell_type": "code",
   "execution_count": 24,
   "metadata": {},
   "outputs": [
    {
     "data": {
      "text/plain": [
       "<matplotlib.collections.PathCollection at 0x12491fca0>"
      ]
     },
     "execution_count": 24,
     "metadata": {},
     "output_type": "execute_result"
    },
    {
     "data": {
      "image/png": "[encoded data removed]",
      "text/plain": [
       "<Figure size 432x288 with 1 Axes>"
      ]
     },
     "metadata": {
      "needs_background": "light"
     },
     "output_type": "display_data"
    }
   ],
   "source": [
    "plt.scatter(X['petal_length'],y,c='blue',alpha=0.1)\n",
    "plt.scatter(X['petal_length'],pred_y,c='red',alpha=0.1)"
   ]
  },
  {
   "cell_type": "code",
   "execution_count": 25,
   "metadata": {},
   "outputs": [
    {
     "data": {
      "text/plain": [
       "<matplotlib.collections.PathCollection at 0x1249e0e20>"
      ]
     },
     "execution_count": 25,
     "metadata": {},
     "output_type": "execute_result"
    },
    {
     "data": {
      "image/png": "[encoded data removed]",
      "text/plain": [
       "<Figure size 432x288 with 1 Axes>"
      ]
     },
     "metadata": {
      "needs_background": "light"
     },
     "output_type": "display_data"
    }
   ],
   "source": [
    "plt.scatter(Xp['petal_length'],yp,c='blue',alpha=0.1)\n",
    "plt.scatter(Xp['petal_length'],pred_yp,c='red',alpha=0.1)"
   ]
  },
  {
   "cell_type": "markdown",
   "metadata": {},
   "source": [
    "### 3.6 - Computing the RMS errors\n",
    "* Compute the RMS error for the training and validation/test set: $RMS = \\sqrt{\\frac{\\sum_i^n (y_i - y_i')^2}{n}}$\n",
    "* Plot the error for $s \\in [0.1,5]$\n",
    "* Plot the error for $n \\in [20,150]$ step = 10\n",
    "* Plot the error for $m \\in [10,100] $ step = 1"
   ]
  },
  {
   "cell_type": "code",
   "execution_count": 26,
   "metadata": {},
   "outputs": [],
   "source": [
    "def get_errors(n,m,s,func):\n",
    "    X,y,mu,Xp,yp     = get_matrices(n,m)\n",
    "    (pred_y,pred_yp) = train_and_predict(X,y,mu,Xp,yp,s,func)\n",
    "    return (linalg.norm(pred_y - y)/np.sqrt(len(y)),linalg.norm(pred_yp - yp)/np.sqrt(len(yp)))"
   ]
  },
  {
   "cell_type": "code",
   "execution_count": 27,
   "metadata": {},
   "outputs": [
    {
     "data": {
      "text/plain": [
       "<matplotlib.legend.Legend at 0x12503ea00>"
      ]
     },
     "execution_count": 27,
     "metadata": {},
     "output_type": "execute_result"
    },
    {
     "data": {
      "image/png": "[encoded data removed]",
      "text/plain": [
       "<Figure size 432x288 with 1 Axes>"
      ]
     },
     "metadata": {
      "needs_background": "light"
     },
     "output_type": "display_data"
    }
   ],
   "source": [
    "sspace = np.linspace(0.1,5)\n",
    "train_error=[]\n",
    "test_error=[]\n",
    "for s in sspace:\n",
    "    (tne,tse)=get_errors(150,20,s,gauss)\n",
    "    train_error.append(tne)\n",
    "    test_error.append(tse)\n",
    "plt.plot(sspace,train_error,label='train',c='red')\n",
    "plt.plot(sspace,test_error,label='test',c='blue')\n",
    "plt.legend()"
   ]
  },
  {
   "cell_type": "code",
   "execution_count": 28,
   "metadata": {
    "scrolled": true
   },
   "outputs": [
    {
     "data": {
      "text/plain": [
       "<matplotlib.legend.Legend at 0x124a04df0>"
      ]
     },
     "execution_count": 28,
     "metadata": {},
     "output_type": "execute_result"
    },
    {
     "data": {
      "image/png": "[encoded data removed]",
      "text/plain": [
       "<Figure size 432x288 with 1 Axes>"
      ]
     },
     "metadata": {
      "needs_background": "light"
     },
     "output_type": "display_data"
    }
   ],
   "source": [
    "nspace = range(30,150,10)\n",
    "train_error=[]\n",
    "test_error=[]\n",
    "for n in nspace:\n",
    "    (tne,tse)=get_errors(n,20,1.0,gauss)\n",
    "    train_error.append(tne)\n",
    "    test_error.append(tse)\n",
    "\n",
    "plt.plot(nspace,train_error,label='train',c='red')\n",
    "plt.plot(nspace,test_error,label='test',c='blue')\n",
    "plt.legend()\n",
    "    "
   ]
  },
  {
   "cell_type": "code",
   "execution_count": 29,
   "metadata": {},
   "outputs": [
    {
     "data": {
      "text/plain": [
       "<matplotlib.legend.Legend at 0x124bf0b80>"
      ]
     },
     "execution_count": 29,
     "metadata": {},
     "output_type": "execute_result"
    },
    {
     "data": {
      "image/png": "[encoded data removed]",
      "text/plain": [
       "<Figure size 432x288 with 1 Axes>"
      ]
     },
     "metadata": {
      "needs_background": "light"
     },
     "output_type": "display_data"
    }
   ],
   "source": [
    "mspace = range(10,50,1)\n",
    "train_error=[]\n",
    "test_error=[]\n",
    "for m in mspace:\n",
    "    (tne,tse)=get_errors(150,m,1.0,gauss)\n",
    "    train_error.append(tne)\n",
    "    test_error.append(tse)\n",
    "\n",
    "plt.plot(mspace,train_error,label='train',c='red')\n",
    "plt.plot(mspace,test_error,label='test',c='blue')\n",
    "plt.legend()"
   ]
  },
  {
   "cell_type": "code",
   "execution_count": null,
   "metadata": {},
   "outputs": [],
   "source": []
  }
 ],
 "metadata": {
  "kernelspec": {
   "display_name": "Python 3",
   "language": "python",
   "name": "python3"
  },
  "language_info": {
   "codemirror_mode": {
    "name": "ipython",
    "version": 3
   },
   "file_extension": ".py",
   "mimetype": "text/x-python",
   "name": "python",
   "nbconvert_exporter": "python",
   "pygments_lexer": "ipython3",
   "version": "3.9.2"
  }
 },
 "nbformat": 4,
 "nbformat_minor": 4
}
